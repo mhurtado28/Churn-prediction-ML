{
  "nbformat": 4,
  "nbformat_minor": 0,
  "metadata": {
    "colab": {
      "provenance": [],
      "include_colab_link": true
    },
    "kernelspec": {
      "name": "python3",
      "display_name": "Python 3"
    },
    "language_info": {
      "name": "python"
    }
  },
  "cells": [
    {
      "cell_type": "markdown",
      "metadata": {
        "id": "view-in-github",
        "colab_type": "text"
      },
      "source": [
        "<a href=\"https://colab.research.google.com/github/mhurtado28/Churn-prediction-ML/blob/main/SegundaParte_Preentrega_Contreras_Hurtado.ipynb\" target=\"_parent\"><img src=\"https://colab.research.google.com/assets/colab-badge.svg\" alt=\"Open In Colab\"/></a>"
      ]
    },
    {
      "cell_type": "markdown",
      "source": [
        "Desarrollamos una segunda parte de la preentrega ya que no fue posible continuar en un solo notebook debido a la saturación de la memoria RAM del servicio gratuito de Google Colab. \n",
        "\n",
        "\n",
        "Elaborado por: Javier Contreras Aristizabal y Mauricio Hurtado Peláez"
      ],
      "metadata": {
        "id": "8OhcLWUwnH7f"
      }
    },
    {
      "cell_type": "markdown",
      "source": [
        "# **Modelo y métricas**\n",
        "\n",
        "En este proyecto se ha determinado que es de clasificación, ya que tenemos los datos cuando un cliente es desertor (1) y cuando no es desertor (2), además consideramos que es de aprendizaje supervisado ya que podemos etiquetar por decirlo así dos posibilidades dentro de la variable churn (deserción).\n",
        "\n",
        "Para continuar el proyecto, se procede a utilizar diferentes métodos para ver cuál es el que más puede funcionar para dar respuesta a la pregunta problema."
      ],
      "metadata": {
        "id": "uw90ff5JnBCy"
      }
    },
    {
      "cell_type": "markdown",
      "source": [
        "Importamos el dataset que derivó de la etapa anterior"
      ],
      "metadata": {
        "id": "hzALbpel16r_"
      }
    },
    {
      "cell_type": "code",
      "source": [
        "# Primero cargamos el dataset y el siguiente paso es hacer una lectura del dataframe por medio de una url\n",
        "from IPython.display import clear_output"
      ],
      "metadata": {
        "id": "6heJTay3uS12"
      },
      "execution_count": null,
      "outputs": []
    },
    {
      "cell_type": "code",
      "source": [
        "!pip install PyDrive\n",
        "clear_output()"
      ],
      "metadata": {
        "id": "wHcLHeOmuVF9"
      },
      "execution_count": null,
      "outputs": []
    },
    {
      "cell_type": "code",
      "source": [
        "from pydrive.auth import GoogleAuth\n",
        "from pydrive.drive import GoogleDrive\n",
        "from google.colab import auth\n",
        "from oauth2client.client import GoogleCredentials"
      ],
      "metadata": {
        "id": "ER1JXcf-uWe6"
      },
      "execution_count": null,
      "outputs": []
    },
    {
      "cell_type": "code",
      "source": [
        "auth.authenticate_user()\n",
        "gauth = GoogleAuth()\n",
        "gauth.credentials = GoogleCredentials.get_application_default()\n",
        "drive = GoogleDrive(gauth)"
      ],
      "metadata": {
        "id": "e_xUMxFFudP7"
      },
      "execution_count": null,
      "outputs": []
    },
    {
      "cell_type": "code",
      "source": [
        "url = 'https://drive.google.com/file/d/1XMX_EFl0V9gvCRZMDZ-GgX9v3k2gnozU/view?usp=share_link'\n",
        "id = url.split('/')[-2]\n",
        "drive.CreateFile({\"id\": id}).GetContentFile(\"Telecom_df.csv\")"
      ],
      "metadata": {
        "id": "fPcT9tG8u-wb"
      },
      "execution_count": null,
      "outputs": []
    },
    {
      "cell_type": "code",
      "source": [
        "# Importamos las librerías para el desafío:\n",
        "import pandas as pd\n",
        "import numpy as np\n",
        "import os\n",
        "import sys\n",
        "import statsmodels.api as sm\n",
        "\n",
        "import seaborn as sns\n",
        "import matplotlib.pyplot as plt\n",
        "\n",
        "from sklearn.model_selection import train_test_split\n",
        "from sklearn import datasets\n",
        "\n",
        "from sklearn import tree\n",
        "from sklearn.tree import DecisionTreeClassifier \n",
        "from sklearn.linear_model import LogisticRegression\n",
        "\n",
        "from sklearn import metrics\n",
        "from sklearn.metrics import accuracy_score, precision_score, recall_score, f1_score, classification_report,confusion_matrix, ConfusionMatrixDisplay\n"
      ],
      "metadata": {
        "id": "tK4soYAJvDbk"
      },
      "execution_count": null,
      "outputs": []
    },
    {
      "cell_type": "code",
      "source": [
        "#Función para imprimir métricas. Se usará mas adelante.\n",
        "def metrica(y_data, predict):\n",
        "  accuracy = metrics.accuracy_score(y_data, predict)\n",
        "  print(\"accuracy: \",accuracy)\n",
        "\n",
        "  precision_positiva = metrics.precision_score(y_data, predict, pos_label=0)\n",
        "  print(\"precision positiva: \",precision_positiva)\n",
        "  precision_negativa = metrics.precision_score(y_data, predict, pos_label=1)\n",
        "  print(\"precision negativa: \",precision_negativa)\n",
        "\n",
        "  recall_sensibilidad = metrics.recall_score(y_data, predict, pos_label=0)                           \n",
        "  print(\"recall sensibilidad: \",recall_sensibilidad)\n",
        "  recall_especificidad = metrics.recall_score(y_data, predict, pos_label=1)                           \n",
        "  print(\"recall especificidad: \",recall_especificidad)\n",
        "\n",
        "  f1_positivo = metrics.f1_score(y_data, predict, pos_label=0)\n",
        "  print(\"f1_positivo: \",f1_positivo) \n",
        "  f1_negativo = metrics.f1_score(y_data, predict, pos_label=1)\n",
        "  print(\"f1_negativo: \",f1_negativo)"
      ],
      "metadata": {
        "id": "HUSTMr_mmWdw"
      },
      "execution_count": null,
      "outputs": []
    },
    {
      "cell_type": "code",
      "source": [
        "#Cargamos el Dataset\n",
        "tel_df = pd.read_csv('Telecom_df.csv', sep=',')\n",
        "tel_df.head(2)"
      ],
      "metadata": {
        "colab": {
          "base_uri": "https://localhost:8080/",
          "height": 205
        },
        "id": "M77Cf-KZvG22",
        "outputId": "ff581dbf-d4e7-4ac0-9382-2b1d30caad3a"
      },
      "execution_count": null,
      "outputs": [
        {
          "output_type": "execute_result",
          "data": {
            "text/plain": [
              "   rev_Mean  mou_Mean  totmrc_Mean  da_Mean  ovrmou_Mean  ovrrev_Mean  \\\n",
              "0   23.9975    219.25       22.500   0.2475         0.00          0.0   \n",
              "1   57.4925    482.75       37.425   0.2475        22.75          9.1   \n",
              "\n",
              "   vceovr_Mean  datovr_Mean  roam_Mean  change_mou  ...  ethnic_M  ethnic_N  \\\n",
              "0          0.0          0.0        0.0     -157.25  ...         0         1   \n",
              "1          9.1          0.0        0.0      532.25  ...         0         0   \n",
              "\n",
              "   ethnic_O  ethnic_P  ethnic_R  ethnic_S  ethnic_U  ethnic_X  ethnic_Z  \\\n",
              "0         0         0         0         0         0         0         0   \n",
              "1         0         0         0         0         0         0         1   \n",
              "\n",
              "   creditcd_Y  \n",
              "0           1  \n",
              "1           1  \n",
              "\n",
              "[2 rows x 125 columns]"
            ],
            "text/html": [
              "\n",
              "  <div id=\"df-877382fa-f938-4e85-83e7-a8cb5f6d7887\">\n",
              "    <div class=\"colab-df-container\">\n",
              "      <div>\n",
              "<style scoped>\n",
              "    .dataframe tbody tr th:only-of-type {\n",
              "        vertical-align: middle;\n",
              "    }\n",
              "\n",
              "    .dataframe tbody tr th {\n",
              "        vertical-align: top;\n",
              "    }\n",
              "\n",
              "    .dataframe thead th {\n",
              "        text-align: right;\n",
              "    }\n",
              "</style>\n",
              "<table border=\"1\" class=\"dataframe\">\n",
              "  <thead>\n",
              "    <tr style=\"text-align: right;\">\n",
              "      <th></th>\n",
              "      <th>rev_Mean</th>\n",
              "      <th>mou_Mean</th>\n",
              "      <th>totmrc_Mean</th>\n",
              "      <th>da_Mean</th>\n",
              "      <th>ovrmou_Mean</th>\n",
              "      <th>ovrrev_Mean</th>\n",
              "      <th>vceovr_Mean</th>\n",
              "      <th>datovr_Mean</th>\n",
              "      <th>roam_Mean</th>\n",
              "      <th>change_mou</th>\n",
              "      <th>...</th>\n",
              "      <th>ethnic_M</th>\n",
              "      <th>ethnic_N</th>\n",
              "      <th>ethnic_O</th>\n",
              "      <th>ethnic_P</th>\n",
              "      <th>ethnic_R</th>\n",
              "      <th>ethnic_S</th>\n",
              "      <th>ethnic_U</th>\n",
              "      <th>ethnic_X</th>\n",
              "      <th>ethnic_Z</th>\n",
              "      <th>creditcd_Y</th>\n",
              "    </tr>\n",
              "  </thead>\n",
              "  <tbody>\n",
              "    <tr>\n",
              "      <th>0</th>\n",
              "      <td>23.9975</td>\n",
              "      <td>219.25</td>\n",
              "      <td>22.500</td>\n",
              "      <td>0.2475</td>\n",
              "      <td>0.00</td>\n",
              "      <td>0.0</td>\n",
              "      <td>0.0</td>\n",
              "      <td>0.0</td>\n",
              "      <td>0.0</td>\n",
              "      <td>-157.25</td>\n",
              "      <td>...</td>\n",
              "      <td>0</td>\n",
              "      <td>1</td>\n",
              "      <td>0</td>\n",
              "      <td>0</td>\n",
              "      <td>0</td>\n",
              "      <td>0</td>\n",
              "      <td>0</td>\n",
              "      <td>0</td>\n",
              "      <td>0</td>\n",
              "      <td>1</td>\n",
              "    </tr>\n",
              "    <tr>\n",
              "      <th>1</th>\n",
              "      <td>57.4925</td>\n",
              "      <td>482.75</td>\n",
              "      <td>37.425</td>\n",
              "      <td>0.2475</td>\n",
              "      <td>22.75</td>\n",
              "      <td>9.1</td>\n",
              "      <td>9.1</td>\n",
              "      <td>0.0</td>\n",
              "      <td>0.0</td>\n",
              "      <td>532.25</td>\n",
              "      <td>...</td>\n",
              "      <td>0</td>\n",
              "      <td>0</td>\n",
              "      <td>0</td>\n",
              "      <td>0</td>\n",
              "      <td>0</td>\n",
              "      <td>0</td>\n",
              "      <td>0</td>\n",
              "      <td>0</td>\n",
              "      <td>1</td>\n",
              "      <td>1</td>\n",
              "    </tr>\n",
              "  </tbody>\n",
              "</table>\n",
              "<p>2 rows × 125 columns</p>\n",
              "</div>\n",
              "      <button class=\"colab-df-convert\" onclick=\"convertToInteractive('df-877382fa-f938-4e85-83e7-a8cb5f6d7887')\"\n",
              "              title=\"Convert this dataframe to an interactive table.\"\n",
              "              style=\"display:none;\">\n",
              "        \n",
              "  <svg xmlns=\"http://www.w3.org/2000/svg\" height=\"24px\"viewBox=\"0 0 24 24\"\n",
              "       width=\"24px\">\n",
              "    <path d=\"M0 0h24v24H0V0z\" fill=\"none\"/>\n",
              "    <path d=\"M18.56 5.44l.94 2.06.94-2.06 2.06-.94-2.06-.94-.94-2.06-.94 2.06-2.06.94zm-11 1L8.5 8.5l.94-2.06 2.06-.94-2.06-.94L8.5 2.5l-.94 2.06-2.06.94zm10 10l.94 2.06.94-2.06 2.06-.94-2.06-.94-.94-2.06-.94 2.06-2.06.94z\"/><path d=\"M17.41 7.96l-1.37-1.37c-.4-.4-.92-.59-1.43-.59-.52 0-1.04.2-1.43.59L10.3 9.45l-7.72 7.72c-.78.78-.78 2.05 0 2.83L4 21.41c.39.39.9.59 1.41.59.51 0 1.02-.2 1.41-.59l7.78-7.78 2.81-2.81c.8-.78.8-2.07 0-2.86zM5.41 20L4 18.59l7.72-7.72 1.47 1.35L5.41 20z\"/>\n",
              "  </svg>\n",
              "      </button>\n",
              "      \n",
              "  <style>\n",
              "    .colab-df-container {\n",
              "      display:flex;\n",
              "      flex-wrap:wrap;\n",
              "      gap: 12px;\n",
              "    }\n",
              "\n",
              "    .colab-df-convert {\n",
              "      background-color: #E8F0FE;\n",
              "      border: none;\n",
              "      border-radius: 50%;\n",
              "      cursor: pointer;\n",
              "      display: none;\n",
              "      fill: #1967D2;\n",
              "      height: 32px;\n",
              "      padding: 0 0 0 0;\n",
              "      width: 32px;\n",
              "    }\n",
              "\n",
              "    .colab-df-convert:hover {\n",
              "      background-color: #E2EBFA;\n",
              "      box-shadow: 0px 1px 2px rgba(60, 64, 67, 0.3), 0px 1px 3px 1px rgba(60, 64, 67, 0.15);\n",
              "      fill: #174EA6;\n",
              "    }\n",
              "\n",
              "    [theme=dark] .colab-df-convert {\n",
              "      background-color: #3B4455;\n",
              "      fill: #D2E3FC;\n",
              "    }\n",
              "\n",
              "    [theme=dark] .colab-df-convert:hover {\n",
              "      background-color: #434B5C;\n",
              "      box-shadow: 0px 1px 3px 1px rgba(0, 0, 0, 0.15);\n",
              "      filter: drop-shadow(0px 1px 2px rgba(0, 0, 0, 0.3));\n",
              "      fill: #FFFFFF;\n",
              "    }\n",
              "  </style>\n",
              "\n",
              "      <script>\n",
              "        const buttonEl =\n",
              "          document.querySelector('#df-877382fa-f938-4e85-83e7-a8cb5f6d7887 button.colab-df-convert');\n",
              "        buttonEl.style.display =\n",
              "          google.colab.kernel.accessAllowed ? 'block' : 'none';\n",
              "\n",
              "        async function convertToInteractive(key) {\n",
              "          const element = document.querySelector('#df-877382fa-f938-4e85-83e7-a8cb5f6d7887');\n",
              "          const dataTable =\n",
              "            await google.colab.kernel.invokeFunction('convertToInteractive',\n",
              "                                                     [key], {});\n",
              "          if (!dataTable) return;\n",
              "\n",
              "          const docLinkHtml = 'Like what you see? Visit the ' +\n",
              "            '<a target=\"_blank\" href=https://colab.research.google.com/notebooks/data_table.ipynb>data table notebook</a>'\n",
              "            + ' to learn more about interactive tables.';\n",
              "          element.innerHTML = '';\n",
              "          dataTable['output_type'] = 'display_data';\n",
              "          await google.colab.output.renderOutput(dataTable, element);\n",
              "          const docLink = document.createElement('div');\n",
              "          docLink.innerHTML = docLinkHtml;\n",
              "          element.appendChild(docLink);\n",
              "        }\n",
              "      </script>\n",
              "    </div>\n",
              "  </div>\n",
              "  "
            ]
          },
          "metadata": {},
          "execution_count": 8
        }
      ]
    },
    {
      "cell_type": "code",
      "source": [
        "# Organizamos \"X\" y \"y\" para determinar nuestra variable target y matrix, más adelante podrán identificar a que nos referimos:\n",
        "X = tel_df.drop(['area_N','churn'], 1)       # feature matrix\n",
        "y = tel_df['churn']               # target feature"
      ],
      "metadata": {
        "colab": {
          "base_uri": "https://localhost:8080/"
        },
        "id": "sBp7RzgG2_3m",
        "outputId": "483a8205-d662-4221-c648-3debafad07ff"
      },
      "execution_count": null,
      "outputs": [
        {
          "output_type": "stream",
          "name": "stderr",
          "text": [
            "<ipython-input-9-a00ba490864b>:2: FutureWarning: In a future version of pandas all arguments of DataFrame.drop except for the argument 'labels' will be keyword-only\n",
            "  X = tel_df.drop(['area_N','churn'], 1)       # feature matrix\n"
          ]
        }
      ]
    },
    {
      "cell_type": "code",
      "source": [
        "X"
      ],
      "metadata": {
        "colab": {
          "base_uri": "https://localhost:8080/",
          "height": 488
        },
        "id": "SY1eS-HX95bi",
        "outputId": "879d3f21-4d74-4922-b3f3-bcb69f820e8b"
      },
      "execution_count": null,
      "outputs": [
        {
          "output_type": "execute_result",
          "data": {
            "text/plain": [
              "       rev_Mean  mou_Mean  totmrc_Mean  da_Mean  ovrmou_Mean  ovrrev_Mean  \\\n",
              "0       23.9975    219.25       22.500   0.2475         0.00          0.0   \n",
              "1       57.4925    482.75       37.425   0.2475        22.75          9.1   \n",
              "2       16.9900     10.25       16.990   0.0000         0.00          0.0   \n",
              "3       38.0000      7.50       38.000   0.0000         0.00          0.0   \n",
              "4       55.2300    570.50       71.980   0.0000         0.00          0.0   \n",
              "...         ...       ...          ...      ...          ...          ...   \n",
              "99961   48.1950    355.50       44.990   0.2475         2.75          1.0   \n",
              "99962   48.1950    355.50       44.990   0.2475         2.75          1.0   \n",
              "99963   48.1950    355.50       44.990   0.2475         2.75          1.0   \n",
              "99964   48.1950    355.50       44.990   0.2475         2.75          1.0   \n",
              "99965   48.1950    355.50       44.990   0.2475         2.75          1.0   \n",
              "\n",
              "       vceovr_Mean  datovr_Mean  roam_Mean  change_mou  ...  ethnic_M  \\\n",
              "0           0.0000          0.0        0.0     -157.25  ...         0   \n",
              "1           9.1000          0.0        0.0      532.25  ...         0   \n",
              "2           0.0000          0.0        0.0       -4.25  ...         0   \n",
              "3           0.0000          0.0        0.0       -1.50  ...         0   \n",
              "4           0.0000          0.0        0.0       38.50  ...         0   \n",
              "...            ...          ...        ...         ...  ...       ...   \n",
              "99961       0.6825          0.0        0.0       -6.25  ...         0   \n",
              "99962       0.6825          0.0        0.0       -6.25  ...         0   \n",
              "99963       0.6825          0.0        0.0       -6.25  ...         0   \n",
              "99964       0.6825          0.0        0.0       -6.25  ...         0   \n",
              "99965       0.6825          0.0        0.0       -6.25  ...         0   \n",
              "\n",
              "       ethnic_N  ethnic_O  ethnic_P  ethnic_R  ethnic_S  ethnic_U  ethnic_X  \\\n",
              "0             1         0         0         0         0         0         0   \n",
              "1             0         0         0         0         0         0         0   \n",
              "2             1         0         0         0         0         0         0   \n",
              "3             0         0         0         0         0         1         0   \n",
              "4             0         0         0         0         0         0         0   \n",
              "...         ...       ...       ...       ...       ...       ...       ...   \n",
              "99961         0         0         0         0         1         0         0   \n",
              "99962         1         0         0         0         0         0         0   \n",
              "99963         0         0         0         0         0         1         0   \n",
              "99964         0         0         0         0         1         0         0   \n",
              "99965         0         0         0         0         0         0         0   \n",
              "\n",
              "       ethnic_Z  creditcd_Y  \n",
              "0             0           1  \n",
              "1             1           1  \n",
              "2             0           1  \n",
              "3             0           1  \n",
              "4             0           1  \n",
              "...         ...         ...  \n",
              "99961         0           1  \n",
              "99962         0           1  \n",
              "99963         0           0  \n",
              "99964         0           0  \n",
              "99965         0           0  \n",
              "\n",
              "[99966 rows x 123 columns]"
            ],
            "text/html": [
              "\n",
              "  <div id=\"df-105cbdd5-cdc7-48bf-ab16-f34d539fcae0\">\n",
              "    <div class=\"colab-df-container\">\n",
              "      <div>\n",
              "<style scoped>\n",
              "    .dataframe tbody tr th:only-of-type {\n",
              "        vertical-align: middle;\n",
              "    }\n",
              "\n",
              "    .dataframe tbody tr th {\n",
              "        vertical-align: top;\n",
              "    }\n",
              "\n",
              "    .dataframe thead th {\n",
              "        text-align: right;\n",
              "    }\n",
              "</style>\n",
              "<table border=\"1\" class=\"dataframe\">\n",
              "  <thead>\n",
              "    <tr style=\"text-align: right;\">\n",
              "      <th></th>\n",
              "      <th>rev_Mean</th>\n",
              "      <th>mou_Mean</th>\n",
              "      <th>totmrc_Mean</th>\n",
              "      <th>da_Mean</th>\n",
              "      <th>ovrmou_Mean</th>\n",
              "      <th>ovrrev_Mean</th>\n",
              "      <th>vceovr_Mean</th>\n",
              "      <th>datovr_Mean</th>\n",
              "      <th>roam_Mean</th>\n",
              "      <th>change_mou</th>\n",
              "      <th>...</th>\n",
              "      <th>ethnic_M</th>\n",
              "      <th>ethnic_N</th>\n",
              "      <th>ethnic_O</th>\n",
              "      <th>ethnic_P</th>\n",
              "      <th>ethnic_R</th>\n",
              "      <th>ethnic_S</th>\n",
              "      <th>ethnic_U</th>\n",
              "      <th>ethnic_X</th>\n",
              "      <th>ethnic_Z</th>\n",
              "      <th>creditcd_Y</th>\n",
              "    </tr>\n",
              "  </thead>\n",
              "  <tbody>\n",
              "    <tr>\n",
              "      <th>0</th>\n",
              "      <td>23.9975</td>\n",
              "      <td>219.25</td>\n",
              "      <td>22.500</td>\n",
              "      <td>0.2475</td>\n",
              "      <td>0.00</td>\n",
              "      <td>0.0</td>\n",
              "      <td>0.0000</td>\n",
              "      <td>0.0</td>\n",
              "      <td>0.0</td>\n",
              "      <td>-157.25</td>\n",
              "      <td>...</td>\n",
              "      <td>0</td>\n",
              "      <td>1</td>\n",
              "      <td>0</td>\n",
              "      <td>0</td>\n",
              "      <td>0</td>\n",
              "      <td>0</td>\n",
              "      <td>0</td>\n",
              "      <td>0</td>\n",
              "      <td>0</td>\n",
              "      <td>1</td>\n",
              "    </tr>\n",
              "    <tr>\n",
              "      <th>1</th>\n",
              "      <td>57.4925</td>\n",
              "      <td>482.75</td>\n",
              "      <td>37.425</td>\n",
              "      <td>0.2475</td>\n",
              "      <td>22.75</td>\n",
              "      <td>9.1</td>\n",
              "      <td>9.1000</td>\n",
              "      <td>0.0</td>\n",
              "      <td>0.0</td>\n",
              "      <td>532.25</td>\n",
              "      <td>...</td>\n",
              "      <td>0</td>\n",
              "      <td>0</td>\n",
              "      <td>0</td>\n",
              "      <td>0</td>\n",
              "      <td>0</td>\n",
              "      <td>0</td>\n",
              "      <td>0</td>\n",
              "      <td>0</td>\n",
              "      <td>1</td>\n",
              "      <td>1</td>\n",
              "    </tr>\n",
              "    <tr>\n",
              "      <th>2</th>\n",
              "      <td>16.9900</td>\n",
              "      <td>10.25</td>\n",
              "      <td>16.990</td>\n",
              "      <td>0.0000</td>\n",
              "      <td>0.00</td>\n",
              "      <td>0.0</td>\n",
              "      <td>0.0000</td>\n",
              "      <td>0.0</td>\n",
              "      <td>0.0</td>\n",
              "      <td>-4.25</td>\n",
              "      <td>...</td>\n",
              "      <td>0</td>\n",
              "      <td>1</td>\n",
              "      <td>0</td>\n",
              "      <td>0</td>\n",
              "      <td>0</td>\n",
              "      <td>0</td>\n",
              "      <td>0</td>\n",
              "      <td>0</td>\n",
              "      <td>0</td>\n",
              "      <td>1</td>\n",
              "    </tr>\n",
              "    <tr>\n",
              "      <th>3</th>\n",
              "      <td>38.0000</td>\n",
              "      <td>7.50</td>\n",
              "      <td>38.000</td>\n",
              "      <td>0.0000</td>\n",
              "      <td>0.00</td>\n",
              "      <td>0.0</td>\n",
              "      <td>0.0000</td>\n",
              "      <td>0.0</td>\n",
              "      <td>0.0</td>\n",
              "      <td>-1.50</td>\n",
              "      <td>...</td>\n",
              "      <td>0</td>\n",
              "      <td>0</td>\n",
              "      <td>0</td>\n",
              "      <td>0</td>\n",
              "      <td>0</td>\n",
              "      <td>0</td>\n",
              "      <td>1</td>\n",
              "      <td>0</td>\n",
              "      <td>0</td>\n",
              "      <td>1</td>\n",
              "    </tr>\n",
              "    <tr>\n",
              "      <th>4</th>\n",
              "      <td>55.2300</td>\n",
              "      <td>570.50</td>\n",
              "      <td>71.980</td>\n",
              "      <td>0.0000</td>\n",
              "      <td>0.00</td>\n",
              "      <td>0.0</td>\n",
              "      <td>0.0000</td>\n",
              "      <td>0.0</td>\n",
              "      <td>0.0</td>\n",
              "      <td>38.50</td>\n",
              "      <td>...</td>\n",
              "      <td>0</td>\n",
              "      <td>0</td>\n",
              "      <td>0</td>\n",
              "      <td>0</td>\n",
              "      <td>0</td>\n",
              "      <td>0</td>\n",
              "      <td>0</td>\n",
              "      <td>0</td>\n",
              "      <td>0</td>\n",
              "      <td>1</td>\n",
              "    </tr>\n",
              "    <tr>\n",
              "      <th>...</th>\n",
              "      <td>...</td>\n",
              "      <td>...</td>\n",
              "      <td>...</td>\n",
              "      <td>...</td>\n",
              "      <td>...</td>\n",
              "      <td>...</td>\n",
              "      <td>...</td>\n",
              "      <td>...</td>\n",
              "      <td>...</td>\n",
              "      <td>...</td>\n",
              "      <td>...</td>\n",
              "      <td>...</td>\n",
              "      <td>...</td>\n",
              "      <td>...</td>\n",
              "      <td>...</td>\n",
              "      <td>...</td>\n",
              "      <td>...</td>\n",
              "      <td>...</td>\n",
              "      <td>...</td>\n",
              "      <td>...</td>\n",
              "      <td>...</td>\n",
              "    </tr>\n",
              "    <tr>\n",
              "      <th>99961</th>\n",
              "      <td>48.1950</td>\n",
              "      <td>355.50</td>\n",
              "      <td>44.990</td>\n",
              "      <td>0.2475</td>\n",
              "      <td>2.75</td>\n",
              "      <td>1.0</td>\n",
              "      <td>0.6825</td>\n",
              "      <td>0.0</td>\n",
              "      <td>0.0</td>\n",
              "      <td>-6.25</td>\n",
              "      <td>...</td>\n",
              "      <td>0</td>\n",
              "      <td>0</td>\n",
              "      <td>0</td>\n",
              "      <td>0</td>\n",
              "      <td>0</td>\n",
              "      <td>1</td>\n",
              "      <td>0</td>\n",
              "      <td>0</td>\n",
              "      <td>0</td>\n",
              "      <td>1</td>\n",
              "    </tr>\n",
              "    <tr>\n",
              "      <th>99962</th>\n",
              "      <td>48.1950</td>\n",
              "      <td>355.50</td>\n",
              "      <td>44.990</td>\n",
              "      <td>0.2475</td>\n",
              "      <td>2.75</td>\n",
              "      <td>1.0</td>\n",
              "      <td>0.6825</td>\n",
              "      <td>0.0</td>\n",
              "      <td>0.0</td>\n",
              "      <td>-6.25</td>\n",
              "      <td>...</td>\n",
              "      <td>0</td>\n",
              "      <td>1</td>\n",
              "      <td>0</td>\n",
              "      <td>0</td>\n",
              "      <td>0</td>\n",
              "      <td>0</td>\n",
              "      <td>0</td>\n",
              "      <td>0</td>\n",
              "      <td>0</td>\n",
              "      <td>1</td>\n",
              "    </tr>\n",
              "    <tr>\n",
              "      <th>99963</th>\n",
              "      <td>48.1950</td>\n",
              "      <td>355.50</td>\n",
              "      <td>44.990</td>\n",
              "      <td>0.2475</td>\n",
              "      <td>2.75</td>\n",
              "      <td>1.0</td>\n",
              "      <td>0.6825</td>\n",
              "      <td>0.0</td>\n",
              "      <td>0.0</td>\n",
              "      <td>-6.25</td>\n",
              "      <td>...</td>\n",
              "      <td>0</td>\n",
              "      <td>0</td>\n",
              "      <td>0</td>\n",
              "      <td>0</td>\n",
              "      <td>0</td>\n",
              "      <td>0</td>\n",
              "      <td>1</td>\n",
              "      <td>0</td>\n",
              "      <td>0</td>\n",
              "      <td>0</td>\n",
              "    </tr>\n",
              "    <tr>\n",
              "      <th>99964</th>\n",
              "      <td>48.1950</td>\n",
              "      <td>355.50</td>\n",
              "      <td>44.990</td>\n",
              "      <td>0.2475</td>\n",
              "      <td>2.75</td>\n",
              "      <td>1.0</td>\n",
              "      <td>0.6825</td>\n",
              "      <td>0.0</td>\n",
              "      <td>0.0</td>\n",
              "      <td>-6.25</td>\n",
              "      <td>...</td>\n",
              "      <td>0</td>\n",
              "      <td>0</td>\n",
              "      <td>0</td>\n",
              "      <td>0</td>\n",
              "      <td>0</td>\n",
              "      <td>1</td>\n",
              "      <td>0</td>\n",
              "      <td>0</td>\n",
              "      <td>0</td>\n",
              "      <td>0</td>\n",
              "    </tr>\n",
              "    <tr>\n",
              "      <th>99965</th>\n",
              "      <td>48.1950</td>\n",
              "      <td>355.50</td>\n",
              "      <td>44.990</td>\n",
              "      <td>0.2475</td>\n",
              "      <td>2.75</td>\n",
              "      <td>1.0</td>\n",
              "      <td>0.6825</td>\n",
              "      <td>0.0</td>\n",
              "      <td>0.0</td>\n",
              "      <td>-6.25</td>\n",
              "      <td>...</td>\n",
              "      <td>0</td>\n",
              "      <td>0</td>\n",
              "      <td>0</td>\n",
              "      <td>0</td>\n",
              "      <td>0</td>\n",
              "      <td>0</td>\n",
              "      <td>0</td>\n",
              "      <td>0</td>\n",
              "      <td>0</td>\n",
              "      <td>0</td>\n",
              "    </tr>\n",
              "  </tbody>\n",
              "</table>\n",
              "<p>99966 rows × 123 columns</p>\n",
              "</div>\n",
              "      <button class=\"colab-df-convert\" onclick=\"convertToInteractive('df-105cbdd5-cdc7-48bf-ab16-f34d539fcae0')\"\n",
              "              title=\"Convert this dataframe to an interactive table.\"\n",
              "              style=\"display:none;\">\n",
              "        \n",
              "  <svg xmlns=\"http://www.w3.org/2000/svg\" height=\"24px\"viewBox=\"0 0 24 24\"\n",
              "       width=\"24px\">\n",
              "    <path d=\"M0 0h24v24H0V0z\" fill=\"none\"/>\n",
              "    <path d=\"M18.56 5.44l.94 2.06.94-2.06 2.06-.94-2.06-.94-.94-2.06-.94 2.06-2.06.94zm-11 1L8.5 8.5l.94-2.06 2.06-.94-2.06-.94L8.5 2.5l-.94 2.06-2.06.94zm10 10l.94 2.06.94-2.06 2.06-.94-2.06-.94-.94-2.06-.94 2.06-2.06.94z\"/><path d=\"M17.41 7.96l-1.37-1.37c-.4-.4-.92-.59-1.43-.59-.52 0-1.04.2-1.43.59L10.3 9.45l-7.72 7.72c-.78.78-.78 2.05 0 2.83L4 21.41c.39.39.9.59 1.41.59.51 0 1.02-.2 1.41-.59l7.78-7.78 2.81-2.81c.8-.78.8-2.07 0-2.86zM5.41 20L4 18.59l7.72-7.72 1.47 1.35L5.41 20z\"/>\n",
              "  </svg>\n",
              "      </button>\n",
              "      \n",
              "  <style>\n",
              "    .colab-df-container {\n",
              "      display:flex;\n",
              "      flex-wrap:wrap;\n",
              "      gap: 12px;\n",
              "    }\n",
              "\n",
              "    .colab-df-convert {\n",
              "      background-color: #E8F0FE;\n",
              "      border: none;\n",
              "      border-radius: 50%;\n",
              "      cursor: pointer;\n",
              "      display: none;\n",
              "      fill: #1967D2;\n",
              "      height: 32px;\n",
              "      padding: 0 0 0 0;\n",
              "      width: 32px;\n",
              "    }\n",
              "\n",
              "    .colab-df-convert:hover {\n",
              "      background-color: #E2EBFA;\n",
              "      box-shadow: 0px 1px 2px rgba(60, 64, 67, 0.3), 0px 1px 3px 1px rgba(60, 64, 67, 0.15);\n",
              "      fill: #174EA6;\n",
              "    }\n",
              "\n",
              "    [theme=dark] .colab-df-convert {\n",
              "      background-color: #3B4455;\n",
              "      fill: #D2E3FC;\n",
              "    }\n",
              "\n",
              "    [theme=dark] .colab-df-convert:hover {\n",
              "      background-color: #434B5C;\n",
              "      box-shadow: 0px 1px 3px 1px rgba(0, 0, 0, 0.15);\n",
              "      filter: drop-shadow(0px 1px 2px rgba(0, 0, 0, 0.3));\n",
              "      fill: #FFFFFF;\n",
              "    }\n",
              "  </style>\n",
              "\n",
              "      <script>\n",
              "        const buttonEl =\n",
              "          document.querySelector('#df-105cbdd5-cdc7-48bf-ab16-f34d539fcae0 button.colab-df-convert');\n",
              "        buttonEl.style.display =\n",
              "          google.colab.kernel.accessAllowed ? 'block' : 'none';\n",
              "\n",
              "        async function convertToInteractive(key) {\n",
              "          const element = document.querySelector('#df-105cbdd5-cdc7-48bf-ab16-f34d539fcae0');\n",
              "          const dataTable =\n",
              "            await google.colab.kernel.invokeFunction('convertToInteractive',\n",
              "                                                     [key], {});\n",
              "          if (!dataTable) return;\n",
              "\n",
              "          const docLinkHtml = 'Like what you see? Visit the ' +\n",
              "            '<a target=\"_blank\" href=https://colab.research.google.com/notebooks/data_table.ipynb>data table notebook</a>'\n",
              "            + ' to learn more about interactive tables.';\n",
              "          element.innerHTML = '';\n",
              "          dataTable['output_type'] = 'display_data';\n",
              "          await google.colab.output.renderOutput(dataTable, element);\n",
              "          const docLink = document.createElement('div');\n",
              "          docLink.innerHTML = docLinkHtml;\n",
              "          element.appendChild(docLink);\n",
              "        }\n",
              "      </script>\n",
              "    </div>\n",
              "  </div>\n",
              "  "
            ]
          },
          "metadata": {},
          "execution_count": 10
        }
      ]
    },
    {
      "cell_type": "code",
      "source": [
        "y"
      ],
      "metadata": {
        "colab": {
          "base_uri": "https://localhost:8080/"
        },
        "id": "9gH4t3-p9MyP",
        "outputId": "9b25888e-d0bd-40d2-cbfc-7753cb589f21"
      },
      "execution_count": null,
      "outputs": [
        {
          "output_type": "execute_result",
          "data": {
            "text/plain": [
              "0        1\n",
              "1        0\n",
              "2        1\n",
              "3        0\n",
              "4        0\n",
              "        ..\n",
              "99961    1\n",
              "99962    0\n",
              "99963    0\n",
              "99964    0\n",
              "99965    1\n",
              "Name: churn, Length: 99966, dtype: int64"
            ]
          },
          "metadata": {},
          "execution_count": 11
        }
      ]
    },
    {
      "cell_type": "code",
      "source": [
        "RANDOM_STATE = 8\n",
        "X_train, X_test, y_train, y_test = train_test_split(X, y, test_size=0.2, stratify = y, random_state = RANDOM_STATE)\n",
        "\n",
        "print(\"X_train\",len(X_train))\n",
        "print(\"y_train\",len(y_train))\n",
        "print(\"X_test\",len(X_test))\n",
        "print(\"y_test\",len(y_test))"
      ],
      "metadata": {
        "colab": {
          "base_uri": "https://localhost:8080/"
        },
        "id": "26VlYsB22x0S",
        "outputId": "fa1de3e2-ac1e-4a28-8600-6be7d271ae65"
      },
      "execution_count": null,
      "outputs": [
        {
          "output_type": "stream",
          "name": "stdout",
          "text": [
            "X_train 79972\n",
            "y_train 79972\n",
            "X_test 19994\n",
            "y_test 19994\n"
          ]
        }
      ]
    },
    {
      "cell_type": "code",
      "source": [
        "#Forward selection\n",
        "def forward_selection(data, target, significance_level=0.05):\n",
        "    initial_features = data.columns.tolist()\n",
        "    best_features = []\n",
        "    while True: #(len(initial_features)>0):\n",
        "        remaining_features = list(set(initial_features)-set(best_features))\n",
        "        new_pval = pd.Series(index=remaining_features)\n",
        "        for new_column in remaining_features:\n",
        "            model = sm.OLS(target, sm.add_constant(data[best_features+[new_column]])).fit()\n",
        "            new_pval[new_column] = model.pvalues[new_column]\n",
        "        min_p_value = new_pval.min()\n",
        "        if(min_p_value<significance_level):\n",
        "            best_features.append(new_pval.idxmin())\n",
        "        else:\n",
        "            break\n",
        "    return best_features"
      ],
      "metadata": {
        "id": "rNC5p-FO3rsZ"
      },
      "execution_count": null,
      "outputs": []
    },
    {
      "cell_type": "code",
      "source": [
        "best_f = forward_selection(X_train,y_train)\n"
      ],
      "metadata": {
        "id": "yHzN43QW3wf-"
      },
      "execution_count": null,
      "outputs": []
    },
    {
      "cell_type": "code",
      "source": [
        "best_f"
      ],
      "metadata": {
        "colab": {
          "base_uri": "https://localhost:8080/"
        },
        "id": "1bKHpXYCWk1t",
        "outputId": "a5e00102-9f13-4a8d-d71d-d23f68f418de"
      },
      "execution_count": null,
      "outputs": [
        {
          "output_type": "execute_result",
          "data": {
            "text/plain": [
              "['eqpdays',\n",
              " 'hnd_price',\n",
              " 'asl_flag_Y',\n",
              " 'months',\n",
              " 'marital_U',\n",
              " 'ovrrev_Mean',\n",
              " 'mou_Mean',\n",
              " 'avgmou',\n",
              " 'ethnic_O',\n",
              " 'refurb_new_R',\n",
              " 'ethnic_Z',\n",
              " 'uniqsubs',\n",
              " 'roam_Mean',\n",
              " 'phones',\n",
              " 'area_NORTHWEST/ROCKY MOUNTAIN AREA',\n",
              " 'totmrc_Mean',\n",
              " 'drop_vce_Mean',\n",
              " 'ethnic_H',\n",
              " 'peak_vce_Mean',\n",
              " 'change_mou',\n",
              " 'change_rev',\n",
              " 'area_SOUTH FLORIDA AREA',\n",
              " 'actvsubs',\n",
              " 'area_DC/MARYLAND/VIRGINIA AREA',\n",
              " 'area_MIDWEST AREA',\n",
              " 'area_OHIO AREA',\n",
              " 'ethnic_C',\n",
              " 'blck_vce_Mean',\n",
              " 'threeway_Mean',\n",
              " 'ethnic_P',\n",
              " 'creditcd_Y',\n",
              " 'rev_Mean',\n",
              " 'ovrmou_Mean',\n",
              " 'ethnic_N',\n",
              " 'hnd_webcap_WCMB',\n",
              " 'ethnic_S',\n",
              " 'avg3rev',\n",
              " 'avg6qty',\n",
              " 'ethnic_X',\n",
              " 'new_cell_Y',\n",
              " 'area_NORTH FLORIDA AREA',\n",
              " 'marital_B',\n",
              " 'area_DALLAS AREA',\n",
              " 'area_CENTRAL/SOUTH TEXAS AREA',\n",
              " 'opk_vce_Mean',\n",
              " 'area_LOS ANGELES AREA']"
            ]
          },
          "metadata": {},
          "execution_count": 15
        }
      ]
    },
    {
      "cell_type": "code",
      "source": [
        "X = X[best_f]  \n",
        "X          "
      ],
      "metadata": {
        "colab": {
          "base_uri": "https://localhost:8080/",
          "height": 522
        },
        "id": "6VrNS_M1Adyc",
        "outputId": "846f8233-8d14-498e-ddf3-28f46182ebe7"
      },
      "execution_count": null,
      "outputs": [
        {
          "output_type": "execute_result",
          "data": {
            "text/plain": [
              "       eqpdays  hnd_price  asl_flag_Y  months  marital_U  ovrrev_Mean  \\\n",
              "0        361.0  149.98999           0      61          0          0.0   \n",
              "1        240.0   99.98999           0      56          0          9.1   \n",
              "2       1504.0   29.98999           0      58          0          0.0   \n",
              "3       1812.0   29.98999           0      60          0          0.0   \n",
              "4        434.0  149.98999           0      57          0          0.0   \n",
              "...        ...        ...         ...     ...        ...          ...   \n",
              "99961    773.0   29.98999           0      25          0          1.0   \n",
              "99962    835.0   29.98999           1      27          0          1.0   \n",
              "99963    433.0  199.98999           0      31          0          1.0   \n",
              "99964     75.0  149.98999           0      25          1          1.0   \n",
              "99965      5.0  149.98999           0      25          0          1.0   \n",
              "\n",
              "       mou_Mean  avgmou  ethnic_O  refurb_new_R  ...  avg3rev  avg6qty  \\\n",
              "0        219.25   83.37         0             0  ...       30    136.0   \n",
              "1        482.75  479.40         0             0  ...       40    275.0   \n",
              "2         10.25  433.98         0             0  ...       17      6.0   \n",
              "3          7.50   63.23         0             0  ...       38     25.0   \n",
              "4        570.50  249.38         0             0  ...       55    196.0   \n",
              "...         ...     ...       ...           ...  ...      ...      ...   \n",
              "99961    355.50  452.10         0             0  ...       73    159.0   \n",
              "99962    355.50  440.25         0             0  ...       73    143.0   \n",
              "99963    355.50  486.00         0             0  ...       61     88.0   \n",
              "99964    355.50  975.62         0             0  ...      148    433.0   \n",
              "99965    355.50  117.11         0             0  ...       51     64.0   \n",
              "\n",
              "       ethnic_X  new_cell_Y  area_NORTH FLORIDA AREA  marital_B  \\\n",
              "0             0           0                        0          0   \n",
              "1             0           0                        0          0   \n",
              "2             0           1                        0          0   \n",
              "3             0           1                        0          0   \n",
              "4             0           1                        0          0   \n",
              "...         ...         ...                      ...        ...   \n",
              "99961         0           0                        0          0   \n",
              "99962         0           0                        0          0   \n",
              "99963         0           0                        0          1   \n",
              "99964         0           0                        0          0   \n",
              "99965         0           0                        0          0   \n",
              "\n",
              "       area_DALLAS AREA  area_CENTRAL/SOUTH TEXAS AREA  opk_vce_Mean  \\\n",
              "0                     0                              0     24.000000   \n",
              "1                     0                              0    157.000000   \n",
              "2                     0                              0      1.000000   \n",
              "3                     0                              0      3.666667   \n",
              "4                     0                              0     90.333333   \n",
              "...                 ...                            ...           ...   \n",
              "99961                 0                              0     26.666667   \n",
              "99962                 0                              0      1.000000   \n",
              "99963                 0                              0      0.000000   \n",
              "99964                 0                              0    167.333333   \n",
              "99965                 0                              0     32.333333   \n",
              "\n",
              "       area_LOS ANGELES AREA  \n",
              "0                          0  \n",
              "1                          0  \n",
              "2                          0  \n",
              "3                          0  \n",
              "4                          0  \n",
              "...                      ...  \n",
              "99961                      1  \n",
              "99962                      1  \n",
              "99963                      0  \n",
              "99964                      0  \n",
              "99965                      1  \n",
              "\n",
              "[99966 rows x 46 columns]"
            ],
            "text/html": [
              "\n",
              "  <div id=\"df-22db87cf-e101-4bca-8c71-8c5522f984e1\">\n",
              "    <div class=\"colab-df-container\">\n",
              "      <div>\n",
              "<style scoped>\n",
              "    .dataframe tbody tr th:only-of-type {\n",
              "        vertical-align: middle;\n",
              "    }\n",
              "\n",
              "    .dataframe tbody tr th {\n",
              "        vertical-align: top;\n",
              "    }\n",
              "\n",
              "    .dataframe thead th {\n",
              "        text-align: right;\n",
              "    }\n",
              "</style>\n",
              "<table border=\"1\" class=\"dataframe\">\n",
              "  <thead>\n",
              "    <tr style=\"text-align: right;\">\n",
              "      <th></th>\n",
              "      <th>eqpdays</th>\n",
              "      <th>hnd_price</th>\n",
              "      <th>asl_flag_Y</th>\n",
              "      <th>months</th>\n",
              "      <th>marital_U</th>\n",
              "      <th>ovrrev_Mean</th>\n",
              "      <th>mou_Mean</th>\n",
              "      <th>avgmou</th>\n",
              "      <th>ethnic_O</th>\n",
              "      <th>refurb_new_R</th>\n",
              "      <th>...</th>\n",
              "      <th>avg3rev</th>\n",
              "      <th>avg6qty</th>\n",
              "      <th>ethnic_X</th>\n",
              "      <th>new_cell_Y</th>\n",
              "      <th>area_NORTH FLORIDA AREA</th>\n",
              "      <th>marital_B</th>\n",
              "      <th>area_DALLAS AREA</th>\n",
              "      <th>area_CENTRAL/SOUTH TEXAS AREA</th>\n",
              "      <th>opk_vce_Mean</th>\n",
              "      <th>area_LOS ANGELES AREA</th>\n",
              "    </tr>\n",
              "  </thead>\n",
              "  <tbody>\n",
              "    <tr>\n",
              "      <th>0</th>\n",
              "      <td>361.0</td>\n",
              "      <td>149.98999</td>\n",
              "      <td>0</td>\n",
              "      <td>61</td>\n",
              "      <td>0</td>\n",
              "      <td>0.0</td>\n",
              "      <td>219.25</td>\n",
              "      <td>83.37</td>\n",
              "      <td>0</td>\n",
              "      <td>0</td>\n",
              "      <td>...</td>\n",
              "      <td>30</td>\n",
              "      <td>136.0</td>\n",
              "      <td>0</td>\n",
              "      <td>0</td>\n",
              "      <td>0</td>\n",
              "      <td>0</td>\n",
              "      <td>0</td>\n",
              "      <td>0</td>\n",
              "      <td>24.000000</td>\n",
              "      <td>0</td>\n",
              "    </tr>\n",
              "    <tr>\n",
              "      <th>1</th>\n",
              "      <td>240.0</td>\n",
              "      <td>99.98999</td>\n",
              "      <td>0</td>\n",
              "      <td>56</td>\n",
              "      <td>0</td>\n",
              "      <td>9.1</td>\n",
              "      <td>482.75</td>\n",
              "      <td>479.40</td>\n",
              "      <td>0</td>\n",
              "      <td>0</td>\n",
              "      <td>...</td>\n",
              "      <td>40</td>\n",
              "      <td>275.0</td>\n",
              "      <td>0</td>\n",
              "      <td>0</td>\n",
              "      <td>0</td>\n",
              "      <td>0</td>\n",
              "      <td>0</td>\n",
              "      <td>0</td>\n",
              "      <td>157.000000</td>\n",
              "      <td>0</td>\n",
              "    </tr>\n",
              "    <tr>\n",
              "      <th>2</th>\n",
              "      <td>1504.0</td>\n",
              "      <td>29.98999</td>\n",
              "      <td>0</td>\n",
              "      <td>58</td>\n",
              "      <td>0</td>\n",
              "      <td>0.0</td>\n",
              "      <td>10.25</td>\n",
              "      <td>433.98</td>\n",
              "      <td>0</td>\n",
              "      <td>0</td>\n",
              "      <td>...</td>\n",
              "      <td>17</td>\n",
              "      <td>6.0</td>\n",
              "      <td>0</td>\n",
              "      <td>1</td>\n",
              "      <td>0</td>\n",
              "      <td>0</td>\n",
              "      <td>0</td>\n",
              "      <td>0</td>\n",
              "      <td>1.000000</td>\n",
              "      <td>0</td>\n",
              "    </tr>\n",
              "    <tr>\n",
              "      <th>3</th>\n",
              "      <td>1812.0</td>\n",
              "      <td>29.98999</td>\n",
              "      <td>0</td>\n",
              "      <td>60</td>\n",
              "      <td>0</td>\n",
              "      <td>0.0</td>\n",
              "      <td>7.50</td>\n",
              "      <td>63.23</td>\n",
              "      <td>0</td>\n",
              "      <td>0</td>\n",
              "      <td>...</td>\n",
              "      <td>38</td>\n",
              "      <td>25.0</td>\n",
              "      <td>0</td>\n",
              "      <td>1</td>\n",
              "      <td>0</td>\n",
              "      <td>0</td>\n",
              "      <td>0</td>\n",
              "      <td>0</td>\n",
              "      <td>3.666667</td>\n",
              "      <td>0</td>\n",
              "    </tr>\n",
              "    <tr>\n",
              "      <th>4</th>\n",
              "      <td>434.0</td>\n",
              "      <td>149.98999</td>\n",
              "      <td>0</td>\n",
              "      <td>57</td>\n",
              "      <td>0</td>\n",
              "      <td>0.0</td>\n",
              "      <td>570.50</td>\n",
              "      <td>249.38</td>\n",
              "      <td>0</td>\n",
              "      <td>0</td>\n",
              "      <td>...</td>\n",
              "      <td>55</td>\n",
              "      <td>196.0</td>\n",
              "      <td>0</td>\n",
              "      <td>1</td>\n",
              "      <td>0</td>\n",
              "      <td>0</td>\n",
              "      <td>0</td>\n",
              "      <td>0</td>\n",
              "      <td>90.333333</td>\n",
              "      <td>0</td>\n",
              "    </tr>\n",
              "    <tr>\n",
              "      <th>...</th>\n",
              "      <td>...</td>\n",
              "      <td>...</td>\n",
              "      <td>...</td>\n",
              "      <td>...</td>\n",
              "      <td>...</td>\n",
              "      <td>...</td>\n",
              "      <td>...</td>\n",
              "      <td>...</td>\n",
              "      <td>...</td>\n",
              "      <td>...</td>\n",
              "      <td>...</td>\n",
              "      <td>...</td>\n",
              "      <td>...</td>\n",
              "      <td>...</td>\n",
              "      <td>...</td>\n",
              "      <td>...</td>\n",
              "      <td>...</td>\n",
              "      <td>...</td>\n",
              "      <td>...</td>\n",
              "      <td>...</td>\n",
              "      <td>...</td>\n",
              "    </tr>\n",
              "    <tr>\n",
              "      <th>99961</th>\n",
              "      <td>773.0</td>\n",
              "      <td>29.98999</td>\n",
              "      <td>0</td>\n",
              "      <td>25</td>\n",
              "      <td>0</td>\n",
              "      <td>1.0</td>\n",
              "      <td>355.50</td>\n",
              "      <td>452.10</td>\n",
              "      <td>0</td>\n",
              "      <td>0</td>\n",
              "      <td>...</td>\n",
              "      <td>73</td>\n",
              "      <td>159.0</td>\n",
              "      <td>0</td>\n",
              "      <td>0</td>\n",
              "      <td>0</td>\n",
              "      <td>0</td>\n",
              "      <td>0</td>\n",
              "      <td>0</td>\n",
              "      <td>26.666667</td>\n",
              "      <td>1</td>\n",
              "    </tr>\n",
              "    <tr>\n",
              "      <th>99962</th>\n",
              "      <td>835.0</td>\n",
              "      <td>29.98999</td>\n",
              "      <td>1</td>\n",
              "      <td>27</td>\n",
              "      <td>0</td>\n",
              "      <td>1.0</td>\n",
              "      <td>355.50</td>\n",
              "      <td>440.25</td>\n",
              "      <td>0</td>\n",
              "      <td>0</td>\n",
              "      <td>...</td>\n",
              "      <td>73</td>\n",
              "      <td>143.0</td>\n",
              "      <td>0</td>\n",
              "      <td>0</td>\n",
              "      <td>0</td>\n",
              "      <td>0</td>\n",
              "      <td>0</td>\n",
              "      <td>0</td>\n",
              "      <td>1.000000</td>\n",
              "      <td>1</td>\n",
              "    </tr>\n",
              "    <tr>\n",
              "      <th>99963</th>\n",
              "      <td>433.0</td>\n",
              "      <td>199.98999</td>\n",
              "      <td>0</td>\n",
              "      <td>31</td>\n",
              "      <td>0</td>\n",
              "      <td>1.0</td>\n",
              "      <td>355.50</td>\n",
              "      <td>486.00</td>\n",
              "      <td>0</td>\n",
              "      <td>0</td>\n",
              "      <td>...</td>\n",
              "      <td>61</td>\n",
              "      <td>88.0</td>\n",
              "      <td>0</td>\n",
              "      <td>0</td>\n",
              "      <td>0</td>\n",
              "      <td>1</td>\n",
              "      <td>0</td>\n",
              "      <td>0</td>\n",
              "      <td>0.000000</td>\n",
              "      <td>0</td>\n",
              "    </tr>\n",
              "    <tr>\n",
              "      <th>99964</th>\n",
              "      <td>75.0</td>\n",
              "      <td>149.98999</td>\n",
              "      <td>0</td>\n",
              "      <td>25</td>\n",
              "      <td>1</td>\n",
              "      <td>1.0</td>\n",
              "      <td>355.50</td>\n",
              "      <td>975.62</td>\n",
              "      <td>0</td>\n",
              "      <td>0</td>\n",
              "      <td>...</td>\n",
              "      <td>148</td>\n",
              "      <td>433.0</td>\n",
              "      <td>0</td>\n",
              "      <td>0</td>\n",
              "      <td>0</td>\n",
              "      <td>0</td>\n",
              "      <td>0</td>\n",
              "      <td>0</td>\n",
              "      <td>167.333333</td>\n",
              "      <td>0</td>\n",
              "    </tr>\n",
              "    <tr>\n",
              "      <th>99965</th>\n",
              "      <td>5.0</td>\n",
              "      <td>149.98999</td>\n",
              "      <td>0</td>\n",
              "      <td>25</td>\n",
              "      <td>0</td>\n",
              "      <td>1.0</td>\n",
              "      <td>355.50</td>\n",
              "      <td>117.11</td>\n",
              "      <td>0</td>\n",
              "      <td>0</td>\n",
              "      <td>...</td>\n",
              "      <td>51</td>\n",
              "      <td>64.0</td>\n",
              "      <td>0</td>\n",
              "      <td>0</td>\n",
              "      <td>0</td>\n",
              "      <td>0</td>\n",
              "      <td>0</td>\n",
              "      <td>0</td>\n",
              "      <td>32.333333</td>\n",
              "      <td>1</td>\n",
              "    </tr>\n",
              "  </tbody>\n",
              "</table>\n",
              "<p>99966 rows × 46 columns</p>\n",
              "</div>\n",
              "      <button class=\"colab-df-convert\" onclick=\"convertToInteractive('df-22db87cf-e101-4bca-8c71-8c5522f984e1')\"\n",
              "              title=\"Convert this dataframe to an interactive table.\"\n",
              "              style=\"display:none;\">\n",
              "        \n",
              "  <svg xmlns=\"http://www.w3.org/2000/svg\" height=\"24px\"viewBox=\"0 0 24 24\"\n",
              "       width=\"24px\">\n",
              "    <path d=\"M0 0h24v24H0V0z\" fill=\"none\"/>\n",
              "    <path d=\"M18.56 5.44l.94 2.06.94-2.06 2.06-.94-2.06-.94-.94-2.06-.94 2.06-2.06.94zm-11 1L8.5 8.5l.94-2.06 2.06-.94-2.06-.94L8.5 2.5l-.94 2.06-2.06.94zm10 10l.94 2.06.94-2.06 2.06-.94-2.06-.94-.94-2.06-.94 2.06-2.06.94z\"/><path d=\"M17.41 7.96l-1.37-1.37c-.4-.4-.92-.59-1.43-.59-.52 0-1.04.2-1.43.59L10.3 9.45l-7.72 7.72c-.78.78-.78 2.05 0 2.83L4 21.41c.39.39.9.59 1.41.59.51 0 1.02-.2 1.41-.59l7.78-7.78 2.81-2.81c.8-.78.8-2.07 0-2.86zM5.41 20L4 18.59l7.72-7.72 1.47 1.35L5.41 20z\"/>\n",
              "  </svg>\n",
              "      </button>\n",
              "      \n",
              "  <style>\n",
              "    .colab-df-container {\n",
              "      display:flex;\n",
              "      flex-wrap:wrap;\n",
              "      gap: 12px;\n",
              "    }\n",
              "\n",
              "    .colab-df-convert {\n",
              "      background-color: #E8F0FE;\n",
              "      border: none;\n",
              "      border-radius: 50%;\n",
              "      cursor: pointer;\n",
              "      display: none;\n",
              "      fill: #1967D2;\n",
              "      height: 32px;\n",
              "      padding: 0 0 0 0;\n",
              "      width: 32px;\n",
              "    }\n",
              "\n",
              "    .colab-df-convert:hover {\n",
              "      background-color: #E2EBFA;\n",
              "      box-shadow: 0px 1px 2px rgba(60, 64, 67, 0.3), 0px 1px 3px 1px rgba(60, 64, 67, 0.15);\n",
              "      fill: #174EA6;\n",
              "    }\n",
              "\n",
              "    [theme=dark] .colab-df-convert {\n",
              "      background-color: #3B4455;\n",
              "      fill: #D2E3FC;\n",
              "    }\n",
              "\n",
              "    [theme=dark] .colab-df-convert:hover {\n",
              "      background-color: #434B5C;\n",
              "      box-shadow: 0px 1px 3px 1px rgba(0, 0, 0, 0.15);\n",
              "      filter: drop-shadow(0px 1px 2px rgba(0, 0, 0, 0.3));\n",
              "      fill: #FFFFFF;\n",
              "    }\n",
              "  </style>\n",
              "\n",
              "      <script>\n",
              "        const buttonEl =\n",
              "          document.querySelector('#df-22db87cf-e101-4bca-8c71-8c5522f984e1 button.colab-df-convert');\n",
              "        buttonEl.style.display =\n",
              "          google.colab.kernel.accessAllowed ? 'block' : 'none';\n",
              "\n",
              "        async function convertToInteractive(key) {\n",
              "          const element = document.querySelector('#df-22db87cf-e101-4bca-8c71-8c5522f984e1');\n",
              "          const dataTable =\n",
              "            await google.colab.kernel.invokeFunction('convertToInteractive',\n",
              "                                                     [key], {});\n",
              "          if (!dataTable) return;\n",
              "\n",
              "          const docLinkHtml = 'Like what you see? Visit the ' +\n",
              "            '<a target=\"_blank\" href=https://colab.research.google.com/notebooks/data_table.ipynb>data table notebook</a>'\n",
              "            + ' to learn more about interactive tables.';\n",
              "          element.innerHTML = '';\n",
              "          dataTable['output_type'] = 'display_data';\n",
              "          await google.colab.output.renderOutput(dataTable, element);\n",
              "          const docLink = document.createElement('div');\n",
              "          docLink.innerHTML = docLinkHtml;\n",
              "          element.appendChild(docLink);\n",
              "        }\n",
              "      </script>\n",
              "    </div>\n",
              "  </div>\n",
              "  "
            ]
          },
          "metadata": {},
          "execution_count": 16
        }
      ]
    },
    {
      "cell_type": "markdown",
      "source": [
        "**2. Algoritmos de clasificación y métricas**"
      ],
      "metadata": {
        "id": "yMJijiedtpwo"
      }
    },
    {
      "cell_type": "code",
      "source": [
        "#Realizamos un split para dividir el dataset el 80% train | 10% validación | 10% test\n",
        "X_train, X_test, y_train, y_test = train_test_split(X, y, test_size=0.2, stratify = y, random_state = RANDOM_STATE)\n",
        "\n",
        "X_test, X_val, y_test, y_val = train_test_split(X_test, y_test, test_size=0.5, random_state= RANDOM_STATE)\n",
        "\n",
        "print(\"X_train\",len(X_train))\n",
        "print(\"y_train\",len(y_train))\n",
        "print(\"X_test\",len(X_test))\n",
        "print(\"y_test\",len(y_test))\n",
        "print(\"X_val\",len(X_val))\n",
        "print(\"y_val\",len(y_val))"
      ],
      "metadata": {
        "colab": {
          "base_uri": "https://localhost:8080/"
        },
        "id": "Ata2NiNp9apA",
        "outputId": "40939971-1f11-4709-c630-483ecd32740a"
      },
      "execution_count": null,
      "outputs": [
        {
          "output_type": "stream",
          "name": "stdout",
          "text": [
            "X_train 79972\n",
            "y_train 79972\n",
            "X_test 9997\n",
            "y_test 9997\n",
            "X_val 9997\n",
            "y_val 9997\n"
          ]
        }
      ]
    },
    {
      "cell_type": "code",
      "source": [
        "#Feature Scaling \n",
        "from sklearn.preprocessing import StandardScaler\n",
        "sc = StandardScaler()\n",
        "X_train = sc.fit_transform(X_train)\n",
        "X_val = sc.transform(X_val)"
      ],
      "metadata": {
        "id": "-oE-TFQvdeNv"
      },
      "execution_count": null,
      "outputs": []
    },
    {
      "cell_type": "code",
      "source": [
        "feature_names = best_f\n",
        "target_names = ['Nochurn', 'churn']"
      ],
      "metadata": {
        "id": "MjdckTbKHOvl"
      },
      "execution_count": null,
      "outputs": []
    },
    {
      "cell_type": "markdown",
      "source": [
        "Árbol de decisión "
      ],
      "metadata": {
        "id": "ASAaKm_Oa8R2"
      }
    },
    {
      "cell_type": "code",
      "source": [
        "#DecissionTreeClassifier \n",
        "clf = DecisionTreeClassifier(random_state = RANDOM_STATE)\n",
        "model = clf.fit(X_train, y_train)\n",
        "y_pred = model.predict(X_val)\n",
        "\n",
        "_ = metrics.plot_confusion_matrix(clf, X_val, y_val, normalize= 'true', display_labels=['Nochurn', 'churn'])"
      ],
      "metadata": {
        "colab": {
          "base_uri": "https://localhost:8080/",
          "height": 334
        },
        "id": "CP4WevWsPMVM",
        "outputId": "559e46a8-08fe-4663-eddd-93aad84adacf"
      },
      "execution_count": null,
      "outputs": [
        {
          "output_type": "stream",
          "name": "stderr",
          "text": [
            "/usr/local/lib/python3.8/dist-packages/sklearn/utils/deprecation.py:87: FutureWarning: Function plot_confusion_matrix is deprecated; Function `plot_confusion_matrix` is deprecated in 1.0 and will be removed in 1.2. Use one of the class methods: ConfusionMatrixDisplay.from_predictions or ConfusionMatrixDisplay.from_estimator.\n",
            "  warnings.warn(msg, category=FutureWarning)\n"
          ]
        },
        {
          "output_type": "display_data",
          "data": {
            "text/plain": [
              "<Figure size 432x288 with 2 Axes>"
            ],
            "image/png": "[encoded data removed]"
          },
          "metadata": {
            "needs_background": "light"
          }
        }
      ]
    },
    {
      "cell_type": "code",
      "source": [
        "y_pred=pd.DataFrame(y_pred)\n",
        "y_pred.value_counts()"
      ],
      "metadata": {
        "colab": {
          "base_uri": "https://localhost:8080/"
        },
        "id": "ZBPAJzj4thcY",
        "outputId": "946b50e2-f4a3-4e4c-9d91-5aecb67a0334"
      },
      "execution_count": null,
      "outputs": [
        {
          "output_type": "execute_result",
          "data": {
            "text/plain": [
              "0    5042\n",
              "1    4955\n",
              "dtype: int64"
            ]
          },
          "metadata": {},
          "execution_count": 21
        }
      ]
    },
    {
      "cell_type": "markdown",
      "source": [
        "*Decidimos no graficar el árbol completo ya que no se podía observar muy claro, sin embargo, podemos decir que 4,955 clientes desertaran, de acuerdo a este modelo*"
      ],
      "metadata": {
        "id": "NDfTLPHXN3tq"
      }
    },
    {
      "cell_type": "code",
      "source": [
        "#Métricas de DecissionTreeClassifier \n",
        "metrica(y_val, y_pred)"
      ],
      "metadata": {
        "colab": {
          "base_uri": "https://localhost:8080/"
        },
        "id": "DmUq2MHDl7RI",
        "outputId": "1b99e58e-a1e0-4799-d754-003330c0e712"
      },
      "execution_count": null,
      "outputs": [
        {
          "output_type": "stream",
          "name": "stdout",
          "text": [
            "accuracy:  0.5608682604781434\n",
            "precision positiva:  0.5618802062673542\n",
            "precision negativa:  0.5598385469223007\n",
            "recall sensibilidad:  0.5650179497407259\n",
            "recall especificidad:  0.556692755368252\n",
            "f1_positivo:  0.5634447096260938\n",
            "f1_negativo:  0.5582612195612799\n"
          ]
        }
      ]
    },
    {
      "cell_type": "code",
      "source": [
        "# Todas las métricas:\n",
        "print(metrics.classification_report(y_val, y_pred))"
      ],
      "metadata": {
        "colab": {
          "base_uri": "https://localhost:8080/"
        },
        "id": "k-b3nOVmYp9Y",
        "outputId": "04b079c4-b613-4fe9-9a99-fe02af661554"
      },
      "execution_count": null,
      "outputs": [
        {
          "output_type": "stream",
          "name": "stdout",
          "text": [
            "              precision    recall  f1-score   support\n",
            "\n",
            "           0       0.56      0.57      0.56      5014\n",
            "           1       0.56      0.56      0.56      4983\n",
            "\n",
            "    accuracy                           0.56      9997\n",
            "   macro avg       0.56      0.56      0.56      9997\n",
            "weighted avg       0.56      0.56      0.56      9997\n",
            "\n"
          ]
        }
      ]
    },
    {
      "cell_type": "markdown",
      "source": [
        "Regresión Logística"
      ],
      "metadata": {
        "id": "8PjqAz8GbT0E"
      }
    },
    {
      "cell_type": "code",
      "source": [
        "#LogisticRegression\n",
        "model = LogisticRegression(max_iter=10000, n_jobs=1) \n",
        "# Ajustar modelo\n",
        "model.fit(X_train, y_train) \n",
        "#Predicciones\n",
        "y_pred2 = model.predict(X_val)"
      ],
      "metadata": {
        "id": "N82Y9pfkaPd9"
      },
      "execution_count": null,
      "outputs": []
    },
    {
      "cell_type": "code",
      "source": [
        "# Para saber cuántos clientes desertarán relizamos lo siguiente:\n",
        "prediccion =pd.DataFrame(y_pred2)\n",
        "prediccion.value_counts()"
      ],
      "metadata": {
        "colab": {
          "base_uri": "https://localhost:8080/"
        },
        "id": "oVGiP5TzfXrD",
        "outputId": "4d0bbcca-4612-4535-f597-1bff14199bfa"
      },
      "execution_count": null,
      "outputs": [
        {
          "output_type": "execute_result",
          "data": {
            "text/plain": [
              "0    5086\n",
              "1    4911\n",
              "dtype: int64"
            ]
          },
          "metadata": {},
          "execution_count": 25
        }
      ]
    },
    {
      "cell_type": "markdown",
      "source": [
        "*Acorde al modelo de regresión logistica se puede decir que van a desertar 4,911 clientes en la empresa.*"
      ],
      "metadata": {
        "id": "6Y5YtPzclOlj"
      }
    },
    {
      "cell_type": "code",
      "source": [
        "# Se realiza matriz de confusión\n",
        "_ = metrics.plot_confusion_matrix(model, X_val, y_val, normalize= 'true', display_labels=['Nochurn', 'churn'])"
      ],
      "metadata": {
        "colab": {
          "base_uri": "https://localhost:8080/",
          "height": 335
        },
        "id": "liNOF-oYhWRK",
        "outputId": "87b6bcfc-8df0-4355-9b04-bb943c70bb68"
      },
      "execution_count": null,
      "outputs": [
        {
          "output_type": "stream",
          "name": "stderr",
          "text": [
            "/usr/local/lib/python3.8/dist-packages/sklearn/utils/deprecation.py:87: FutureWarning: Function plot_confusion_matrix is deprecated; Function `plot_confusion_matrix` is deprecated in 1.0 and will be removed in 1.2. Use one of the class methods: ConfusionMatrixDisplay.from_predictions or ConfusionMatrixDisplay.from_estimator.\n",
            "  warnings.warn(msg, category=FutureWarning)\n"
          ]
        },
        {
          "output_type": "display_data",
          "data": {
            "text/plain": [
              "<Figure size 432x288 with 2 Axes>"
            ],
            "image/png": "[encoded data removed]"
          },
          "metadata": {
            "needs_background": "light"
          }
        }
      ]
    },
    {
      "cell_type": "code",
      "source": [
        "#LogisticRegression métricas\n",
        "metrica(y_val, y_pred2)"
      ],
      "metadata": {
        "colab": {
          "base_uri": "https://localhost:8080/"
        },
        "id": "UKYuSWWkm54m",
        "outputId": "3791d105-8974-4354-81b3-932bd2527186"
      },
      "execution_count": null,
      "outputs": [
        {
          "output_type": "stream",
          "name": "stdout",
          "text": [
            "accuracy:  0.5946784035210563\n",
            "precision positiva:  0.5945733385764844\n",
            "precision negativa:  0.5947872123803706\n",
            "recall sensibilidad:  0.6031112883925009\n",
            "recall especificidad:  0.5861930563917319\n",
            "f1_positivo:  0.5988118811881188\n",
            "f1_negativo:  0.5904588639579543\n"
          ]
        }
      ]
    },
    {
      "cell_type": "code",
      "source": [
        "# Todas las métricas:\n",
        "print(metrics.classification_report(y_val, y_pred2))"
      ],
      "metadata": {
        "colab": {
          "base_uri": "https://localhost:8080/"
        },
        "id": "5NUfE7Djk1kW",
        "outputId": "846c4021-e066-4542-e022-cab79cd2a440"
      },
      "execution_count": null,
      "outputs": [
        {
          "output_type": "stream",
          "name": "stdout",
          "text": [
            "              precision    recall  f1-score   support\n",
            "\n",
            "           0       0.59      0.60      0.60      5014\n",
            "           1       0.59      0.59      0.59      4983\n",
            "\n",
            "    accuracy                           0.59      9997\n",
            "   macro avg       0.59      0.59      0.59      9997\n",
            "weighted avg       0.59      0.59      0.59      9997\n",
            "\n"
          ]
        }
      ]
    },
    {
      "cell_type": "markdown",
      "source": [
        "XGBoost"
      ],
      "metadata": {
        "id": "Mww9bywNQZsI"
      }
    },
    {
      "cell_type": "code",
      "source": [
        "#XGBoost\n",
        "import xgboost as xgb\n",
        "\n",
        "xgb_cl = xgb.XGBClassifier()"
      ],
      "metadata": {
        "id": "Ty6dtpwLA31d"
      },
      "execution_count": null,
      "outputs": []
    },
    {
      "cell_type": "code",
      "source": [
        "# Init classifier\n",
        "xgb_cl = xgb.XGBClassifier()\n",
        "\n",
        "# Fit\n",
        "xgb_cl.fit(X_train, y_train)\n",
        "\n",
        "# Predict\n",
        "preds3 = xgb_cl.predict(X_val)\n"
      ],
      "metadata": {
        "id": "UFWg6i9-QPNQ"
      },
      "execution_count": null,
      "outputs": []
    },
    {
      "cell_type": "code",
      "source": [
        "# Para saber cuántos clientes desertarán relizamos lo siguiente:\n",
        "dfpreds = pd.DataFrame(preds3)\n",
        "dfpreds.value_counts()"
      ],
      "metadata": {
        "colab": {
          "base_uri": "https://localhost:8080/"
        },
        "id": "AJPT0Nz9uGmt",
        "outputId": "b2847a5c-c8df-45ec-80eb-9322e78f5424"
      },
      "execution_count": null,
      "outputs": [
        {
          "output_type": "execute_result",
          "data": {
            "text/plain": [
              "1    5326\n",
              "0    4671\n",
              "dtype: int64"
            ]
          },
          "metadata": {},
          "execution_count": 31
        }
      ]
    },
    {
      "cell_type": "markdown",
      "source": [
        "*Acorde al modelo de XGBoost se puede decir que van a desertar 4,671 clientes en la empresa.*"
      ],
      "metadata": {
        "id": "wTAm1UjOuZ7y"
      }
    },
    {
      "cell_type": "code",
      "source": [
        "# Se realiza matriz de confusión\n",
        "_ = metrics.plot_confusion_matrix(xgb_cl, X_val, y_val, normalize= 'true', display_labels=['Nochurn', 'churn'])"
      ],
      "metadata": {
        "colab": {
          "base_uri": "https://localhost:8080/",
          "height": 334
        },
        "id": "iOOUD4ARhJ2Y",
        "outputId": "dd5ffd7b-0480-4d6d-93fb-32968fe1da19"
      },
      "execution_count": null,
      "outputs": [
        {
          "output_type": "stream",
          "name": "stderr",
          "text": [
            "/usr/local/lib/python3.8/dist-packages/sklearn/utils/deprecation.py:87: FutureWarning: Function plot_confusion_matrix is deprecated; Function `plot_confusion_matrix` is deprecated in 1.0 and will be removed in 1.2. Use one of the class methods: ConfusionMatrixDisplay.from_predictions or ConfusionMatrixDisplay.from_estimator.\n",
            "  warnings.warn(msg, category=FutureWarning)\n"
          ]
        },
        {
          "output_type": "display_data",
          "data": {
            "text/plain": [
              "<Figure size 432x288 with 2 Axes>"
            ],
            "image/png": "[encoded data removed]"
          },
          "metadata": {
            "needs_background": "light"
          }
        }
      ]
    },
    {
      "cell_type": "code",
      "source": [
        "#Métrica XGBoost\n",
        "metrica(y_val, preds3)"
      ],
      "metadata": {
        "colab": {
          "base_uri": "https://localhost:8080/"
        },
        "id": "36zp9wXqjq3R",
        "outputId": "b9e9ba47-bdd5-4ca1-9974-f236a23293ac"
      },
      "execution_count": null,
      "outputs": [
        {
          "output_type": "stream",
          "name": "stdout",
          "text": [
            "accuracy:  0.630589176753026\n",
            "precision positiva:  0.6414044101905374\n",
            "precision negativa:  0.6211040180247841\n",
            "recall sensibilidad:  0.5975269246110889\n",
            "recall especificidad:  0.66385711418824\n",
            "f1_positivo:  0.6186886938564791\n",
            "f1_negativo:  0.6417693277718498\n"
          ]
        }
      ]
    },
    {
      "cell_type": "code",
      "source": [
        "# Todas las metricas:\n",
        "print(metrics.classification_report(y_val, preds3))"
      ],
      "metadata": {
        "colab": {
          "base_uri": "https://localhost:8080/"
        },
        "id": "mTELUWF_Kivl",
        "outputId": "981c196d-9af2-41b7-944b-a02a52ccb8b8"
      },
      "execution_count": null,
      "outputs": [
        {
          "output_type": "stream",
          "name": "stdout",
          "text": [
            "              precision    recall  f1-score   support\n",
            "\n",
            "           0       0.64      0.60      0.62      5014\n",
            "           1       0.62      0.66      0.64      4983\n",
            "\n",
            "    accuracy                           0.63      9997\n",
            "   macro avg       0.63      0.63      0.63      9997\n",
            "weighted avg       0.63      0.63      0.63      9997\n",
            "\n"
          ]
        }
      ]
    },
    {
      "cell_type": "markdown",
      "source": [
        "### ***COMPARACIÓN DE METRICAS DE MODELOS***"
      ],
      "metadata": {
        "id": "rTh3YnOo6Lqy"
      }
    },
    {
      "cell_type": "code",
      "source": [
        "df = pd.DataFrame({'Models':['TreeR','RL','XGBoost'], 'Precisión Negativa':[0.56, 0.59, 0.62]})\n",
        "ax = df.plot.barh(x = 'Models', y = 'Precisión Negativa', rot=0)"
      ],
      "metadata": {
        "colab": {
          "base_uri": "https://localhost:8080/",
          "height": 265
        },
        "id": "tKwNEGb_7Eq-",
        "outputId": "20338612-78bb-471e-d7de-55157e2c6387"
      },
      "execution_count": null,
      "outputs": [
        {
          "output_type": "display_data",
          "data": {
            "text/plain": [
              "<Figure size 432x288 with 1 Axes>"
            ],
            "image/png": "[encoded data removed]"
          },
          "metadata": {
            "needs_background": "light"
          }
        }
      ]
    },
    {
      "cell_type": "markdown",
      "source": [
        "**3. Métricas correspondientes de acuerdo al problema**"
      ],
      "metadata": {
        "id": "EFr_9N4Rt3Z1"
      }
    },
    {
      "cell_type": "markdown",
      "source": [
        "Después de haber hecho los respectivos cálculos de las métricas como se puede observar anteriormente, para el problema en estudio consideramos que las métricas con las que debemos quedarnos es:\n",
        "\n",
        "1. Precisión Negativa: Tiene mayor relevancia para esta caso dicha métrica, debido a que el objetivo del proyecto es predecir las deserciones de clientes de la compañía, en otras palabras, predecir los negativos (Instancia 1 en el dataset). Algunos autores (1 & 2) coinciden con que esta métrica es la adecuada para este tipo de problemas de deserciones de clientes."
      ],
      "metadata": {
        "id": "IK8TvEPMg6Jy"
      }
    },
    {
      "cell_type": "markdown",
      "source": [
        "**4. Conclusiones respectivas con base en los resultados obtenidos**"
      ],
      "metadata": {
        "id": "DXVfkHl1uDzJ"
      }
    },
    {
      "cell_type": "markdown",
      "source": [
        "Se puede concluir que después de realizar varios algoritmos, el que mejor resultado tuvo es el de XGBoost, seguido de la regresión logística. El modelo de árbol de decisión tuvo la menor métrica.\n",
        "\n",
        "\n",
        "*   Precisión negativa XGBoost = 0.62\n",
        "*   Precisión negativa Regresión Logística = 0.59\n",
        "*   Precisión negativa Árbol de decisión = 0.56\n",
        "\n",
        "\n",
        "También podemos decir que gracias a las clases y los desafíos entendimos más en que consiste entrenar, testear y evaluar un modelo. Entendimos la importancia de las etapas previas a la ejecución de los algoritmos para poder tener un alcance más eficiente del modelo. Las métricas que obtuvimos en el modelo, no las consideramos malas, pero somos conscientes que a medida que tengamos más experiencia en el tema podremos alcanzar mejores resultados.\n",
        "\n",
        "Como resultado final se evidencia que el modelo XGBoost predijo un número relevante de deserciones (4,671 deserciones). Recomendamos a la empresa tomar acciones lo más pronto que se pueda para reducirlos y así pueda mejorar sus utilidades y se siga consolidando en el mercado. Por otro lado, en otros casos se considera una buena estrategia enfocarse en los clientes que no tienden a desertar y mantenerlos a gusto con los servicios de la compañía (2).\n",
        "\n"
      ],
      "metadata": {
        "id": "siZhp1iHiHN1"
      }
    },
    {
      "cell_type": "markdown",
      "source": [
        "**Referencias**"
      ],
      "metadata": {
        "id": "QJQLviHQqA_h"
      }
    },
    {
      "cell_type": "markdown",
      "source": [
        "(1) Verne Team. (2020, 20 de octubre). Analizando el abandono de clientes con Python. Artículos de data.https://blogvisionarios.com/articulos-data/analizando-el-abandono-de-clientes-con-python/ \n",
        "\n",
        "(2) Aprende Ingeniería. (2022, 27 de octubre). Churn Rate: Resumén y Resolución Del Problemahttps://aprendeingenieria.com/churn-rate-data-science/#.Y1v7jHbMLIU"
      ],
      "metadata": {
        "id": "vSFqOU1equpw"
      }
    },
    {
      "cell_type": "markdown",
      "source": [
        "# **Conclusiones**"
      ],
      "metadata": {
        "id": "6OXFEoqMdOZg"
      }
    },
    {
      "cell_type": "markdown",
      "source": [
        "Después de desarrollar el respectivo análisis de datos con Python sobre el problema seleccionado, se puede decir que se obtuvieron varios insights que pueden ser de interés para la empresa y así puedan tomar las acciones respectivas para disminuir el porcentaje de deserciones y por consiguiente tener mejores resultados financieros y competitivos. \n",
        "\n",
        "Como complemento a lo anterior se puede decir que según los autores de “Leading on the Edge of Chaos” un aumento del 2% en la retención de clientes (o disminución de la rotación) es equivalente a una reducción del 10% en los costos. así que no es de extrañar que las empresas de SaaS (y las que se preocupan por los clientes) presten mucha atención a Churn Analysis. Además, según la Oficina de Asuntos del Consumidor de la Casa Blanca, es de 6 a 7 veces más costoso adquirir un nuevo cliente que retener a uno antiguo. *(Leading on the Edge of Chaos.2022.Análisis de abandono con Machine Learning.Blog sobre las tecnologías más utilizadas del momento como: Big Data, Machine Learning e IA, además de las herramientas de programación y bibliotecas de Python, Tensorflow, Scykit-learn entre muchos otros!.https://sitiobigdata.com/2019/12/24/analisis-de-abandono-con-machine-learning/#)*\n",
        "\n",
        "A continuación se podrán ver las respectivas recomendaciones:\n",
        "\n",
        "1. Se pudo visualizar que existen áreas donde existe mayor número de clientes que desertan con relación a los que no, como lo son: Northwest/Rocky Mountain, New England, South Florida, Southwest, Philadelphia, North Florida, California North.\n",
        "Se recomienda concentrar los esfuerzos en las áreas encontradas para identificar la causa y así tomar acciones que permitan resolver un porcentaje importante de desertores.\n",
        "\n",
        "2. El límite de gasto de la cuenta varia acorde a la etiqueta, es decir para la etiqueta N existe mayor presencia de deserciones con relación a los clientes que continúan y pasa lo contrario para el caso de la etiqueta Y. Por tal razón se recomienda a la empresa revisar detenidamente el límite de gasto de la cuenta para los casos que etiquetaron como N, esto les permitiría mejorar este comportamiento.\n",
        "\n",
        "3. Destacamos variables las cuales tienen un comportamiento similar: mou_Mean (Promedio de minutos de uso al mes), comp_vce_Mean (Promedio de llamadas de voz completadas), peak_vce_Mean (Número promedio de llamadas de voz pico entrantes y salientes), avg6mou (Minutos de uso mensual promedio en los últimos seis meses), avg3mou (Promedio de minutos de uso mensual en los últimos tres meses), totmrc_Mean (Cuota recurrente mensual total promedio). Es decir, a medida que va aumentando el valor, disminuye su frecuencia. Es importante que revise la empresa para descartar, si los servicios brindados para clientes que requieren de un mayor consumo prefieren no hacer ese gasto con la compañía por alguna razón.\n",
        "\n",
        "4. Se puedo observar que a medida que aumenta el promedio (num) de llamadas de voz bloqueadas (fallidas), también se incrementa el ingreso mensual promedio (importe de la tarifa) durante los últimos tres meses, para la mayoría de los casos.\n",
        "\n",
        "5. Se puede decir que entre más número de días permanezca un cliente con los servicios de la empresa, existe una mayor probabilidad que deserte. Se recomienda que Telecom haga un seguimiento oportuno a aquellos servicios a lo largo del tiempo.\n",
        "\n",
        "6. Se puede decir que es valioso lo que puede resultar al extraer datos de APIs para futuros proyectos como científicos de datos. Sin embargo, es poca la información que pudimos encontrar relacionada a nuestro dataset, es por esto que se obtuvo datos de varias APIs como práctica. \n",
        "\n",
        "Respuestas a las preguntas e hipótesis iniciales:\n",
        "*texto en cursiva*\n",
        "**Hipótesis:**\n",
        "\n",
        "*No tenemos evidencia suficiente para concluir que la media de deserciones de clientes de la empresa de Telecom no es representativa. o \"tenemos evidencia suficiente para concluir que la media de deserciones de clientes es representativa con un 49% de deserciones\"*\n",
        "\n",
        "\n",
        "**Preguntas:** \n",
        "\n",
        "¿Cuáles son las dos principales áreas con menor número de clientes?\n",
        "\n",
        "*r. El área de TENNESSEE con 2737 clientes y el área de PHILADELPHIA con 2446 clientes. Telecom debe centrar sus esfuerzos en estas áreas o realizar una investigación de porque estas áreas presentan menos clientes.*\n",
        "\n",
        "¿Se hallaron datos perdidos, outliers o aberrantes dentro del dataset?\n",
        "\n",
        "*r. Sí, se identificaron datos perdidos o Nans, los cuales fueron reemplazados por la mediana de cada una de estas variables, para las variables no numéricas se puso la letra N, además se eliminaron aquellas variables consideradas no relevantes donde existía gran número de valores nulos. Previo a estos se observó que existe presencia de outliers en gran proporción de las variables del dataset.*\n",
        "\n",
        "\n",
        "¿Se pudieron generar buenos insights después de realizar el respectivo análisis de datos?\n",
        "\n",
        "*r. Consideramos que sí, después del respectivo análisis exploratorio de datos obtuvimos varios insights que pueden ser relevantes y algunos llamados de alerta para la empresa.*\n",
        "\n",
        "¿Cuáles son las variables que se deben considerar para el estudio de este dataset despues de hacer Forward Selection?\n",
        "\n",
        "r. eqpdays, hnd_price, asl_flag_Y, months, marital_U, ovrrev_Mean, mou_Mean,avgmou, ethnic_O, refurb_new_R, ethnic_Z, uniqsubs, roam_Mean, phones, area_NORTHWEST/ROCKY MOUNTAIN AREA, totmrc_Mean, drop_vce_Mean, ethnic_H,peak_vce_Mean, change_mou, change_rev, area_SOUTH FLORIDA AREA, actvsubs,area_DC/MARYLAND/VIRGINIA AREA, area_MIDWEST AREA, area_OHIO AREA, ethnic_C,blck_vce_Mean, threeway_Mean, ethnic_P, creditcd_Y, rev_Mean, ovrmou_Mean,\n",
        "ethnic_N, hnd_webcap_WCMB, ethnic_S, avg3rev, avg6qty, ethnic_X, new_cell_Y,\n",
        "area_NORTH FLORIDA AREA, marital_B, area_DALLAS AREA, area_CENTRAL/SOUTH TEXAS AREA, opk_vce_Mean, area_LOS ANGELES AREA.\n",
        "\n",
        "¿Se pudieron generar buenos insights después de realizar el respectivo análisis de datos?\n",
        "\n",
        "r. Consideramos que sí, después del respectivo análisis exploratorio de datos obtuvimos varios insights que pueden ser relevantes y algunos llamados de alerta para la empresa.\n",
        "\n",
        "¿Cuáles fueron los algoritmos de clasificación utilizados?\n",
        "\n",
        "r. Árbol de decisión, regresión logística y XGBosst.\n",
        "\n",
        "¿Cuál fue el método de Feature selection usado?\n",
        "\n",
        "r. Forward Selection\n"
      ],
      "metadata": {
        "id": "VSt034mqdUtD"
      }
    },
    {
      "cell_type": "markdown",
      "source": [
        "**Bibliografía:**\n",
        "\n",
        "Nos apoyamos de:\n",
        "\n",
        "1. Algunas partes realizadas por SEMIH en el proyecto denominado \"churn_telecom_project\" en Kaggle \n",
        "https://www.kaggle.com/code/semihizinli/churn-telecom-project \n",
        "2. De las clases tomadas en el curso de Data Science de Coderhouse.\n",
        "3. Del ejemplo en vivo que se encuentra en el siguiente enlace:\n",
        "https://colab.research.google.com/drive/1d_g_4HdJiLQp0tSp4l7UBUEPefrYLtbM?hl=es#scrollTo=oeqY8kgZh0Lp\n"
      ],
      "metadata": {
        "id": "LKDAzrD7dcXK"
      }
    }
  ]
}